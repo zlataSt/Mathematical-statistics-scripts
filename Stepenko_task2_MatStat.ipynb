{
 "cells": [
  {
   "cell_type": "markdown",
   "metadata": {},
   "source": [
    "# Занятие № 2. Инструменты описательной статиcтики в Jupyter Notebook"
   ]
  },
  {
   "cell_type": "markdown",
   "metadata": {},
   "source": [
    "### 2.1. Имеется выборка объема 14 значений: \n",
    "### $60, 75, 100, 120, 75, 30, 100, 120, 75, 100, 45, 100, 45, 100$. \n",
    "\n",
    "### Найдите все эмпирические характеристики."
   ]
  },
  {
   "cell_type": "code",
   "execution_count": 36,
   "metadata": {},
   "outputs": [
    {
     "name": "stdout",
     "output_type": "stream",
     "text": [
      "Populating the interactive namespace from numpy and matplotlib\n"
     ]
    },
    {
     "name": "stderr",
     "output_type": "stream",
     "text": [
      "C:\\ProgramData\\Anaconda3\\lib\\site-packages\\IPython\\core\\magics\\pylab.py:160: UserWarning: pylab import has clobbered these variables: ['sample']\n",
      "`%matplotlib` prevents importing * from pylab and numpy\n",
      "  \"\\n`%matplotlib` prevents importing * from pylab and numpy\"\n"
     ]
    }
   ],
   "source": [
    "'''Необходимые статистические библиотеки'''\n",
    "%pylab inline\n",
    "import math\n",
    "import numpy as np\n",
    "import matplotlib.pyplot as plt\n",
    "import scipy.stats as stats\n",
    "from scipy.stats import mstats\n",
    "from statsmodels.distributions.empirical_distribution import ECDF\n",
    "from scipy.stats import moment\n",
    "import statsmodels.distributions.empirical_distribution as sm\n",
    "pylab.rcParams['figure.figsize'] = (15, 9)"
   ]
  },
  {
   "cell_type": "code",
   "execution_count": 41,
   "metadata": {},
   "outputs": [],
   "source": [
    "def ecdf_plot(a, step = 0.001, col = 'black', col2 = 'gray', size = 5, dash=True):\n",
    " from statsmodels.distributions.empirical_distribution import ECDF\n",
    "\n",
    " f = ECDF(a)\n",
    " x = arange(a.min()-1,a.max()+1,step)\n",
    " y = f(x)\n",
    "\n",
    " for i in range(x.size):\n",
    "     if ((i + 1) < x.size) and (y[i] != y[i+1]):\n",
    "         if dash:\n",
    "             w = np.arange(y[i],y[i+1],step)\n",
    "             plot(np.full(w.size,x[i]), w, linestyle ='dashed', color = col2, linewidth = 2)\n",
    "         x[i] = np.nan\n",
    "\n",
    " plot(x,y,color=col)\n",
    "\n",
    " for i in range(x.size):\n",
    "     if np.isnan(x[i]):\n",
    "         plot(x[i-1]+step,y[i],marker='o',color='white',markeredgecolor=col,markersize=size)\n",
    "         plot(x[i-1]+step,y[i+1],marker='o',color=col,markersize=size)"
   ]
  },
  {
   "cell_type": "code",
   "execution_count": 45,
   "metadata": {},
   "outputs": [
    {
     "name": "stdout",
     "output_type": "stream",
     "text": [
      "Минимальный элемент выборки: 30\n",
      "Максимальный элемент выборки: 120\n",
      "Эмпирическая медиана: 87.5\n",
      "Эмпирическая дисперсия: 755.7397959183673\n",
      "Эмпирическое стандартное отклонение 27.49072199703688\n",
      "Эмпирическая мода: ModeResult(mode=array([100]), count=array([5]))\n",
      "Размах выборки: 90\n",
      "Эмпирический коэффициент асимметрии: -0.37091586856917996\n",
      "Эмпирический коэффициент эксцесса: -1.0113598034503013\n",
      "Сумма = 1145\n"
     ]
    }
   ],
   "source": [
    "dataset = np.sort([60,75,100,120,75,30,100,120,75,100,45,100,45,100]) #сортируем исходную выборку\n",
    "print('Минимальный элемент выборки:', np.min(dataset))\n",
    "print('Максимальный элемент выборки:', np.max(dataset))\n",
    "print('Эмпирическая медиана:', np.median(dataset))\n",
    "print('Эмпирическая дисперсия:', np.var(dataset))\n",
    "print('Эмпирическое стандартное отклонение', np.std(dataset))\n",
    "print('Эмпирическая мода:', stats.mode(dataset))\n",
    "print('Размах выборки:', np.max(dataset)-np.min(dataset))\n",
    "print('Эмпирический коэффициент асимметрии:',stats.skew(dataset))\n",
    "print('Эмпирический коэффициент эксцесса:',stats.kurtosis(dataset, fisher=True,bias=True))\n",
    "print('Сумма =',sum(dataset))"
   ]
  },
  {
   "cell_type": "code",
   "execution_count": 10,
   "metadata": {},
   "outputs": [
    {
     "data": {
      "text/plain": [
       "755.7397959183673"
      ]
     },
     "execution_count": 10,
     "metadata": {},
     "output_type": "execute_result"
    }
   ],
   "source": [
    "moment(dataset, moment=2) #2-й центральный момент"
   ]
  },
  {
   "cell_type": "code",
   "execution_count": 11,
   "metadata": {},
   "outputs": [
    {
     "data": {
      "text/plain": [
       "-7706.086005830921"
      ]
     },
     "execution_count": 11,
     "metadata": {},
     "output_type": "execute_result"
    }
   ],
   "source": [
    "moment(dataset, moment=3) #3-й центральный момент"
   ]
  },
  {
   "cell_type": "code",
   "execution_count": 12,
   "metadata": {},
   "outputs": [
    {
     "data": {
      "text/plain": [
       "array([ 63.75,  87.5 , 100.  ])"
      ]
     },
     "execution_count": 12,
     "metadata": {},
     "output_type": "execute_result"
    }
   ],
   "source": [
    "np.percentile(dataset, [25, 50, 75])"
   ]
  },
  {
   "cell_type": "code",
   "execution_count": 13,
   "metadata": {},
   "outputs": [
    {
     "data": {
      "text/plain": [
       "array([100.])"
      ]
     },
     "execution_count": 13,
     "metadata": {},
     "output_type": "execute_result"
    }
   ],
   "source": [
    "mstats.mquantiles(dataset,prob=[0.8])"
   ]
  },
  {
   "cell_type": "code",
   "execution_count": 14,
   "metadata": {},
   "outputs": [
    {
     "data": {
      "text/plain": [
       "array([109.4])"
      ]
     },
     "execution_count": 14,
     "metadata": {},
     "output_type": "execute_result"
    }
   ],
   "source": [
    "mstats.mquantiles(dataset,prob=[0.85])"
   ]
  },
  {
   "cell_type": "code",
   "execution_count": 15,
   "metadata": {},
   "outputs": [
    {
     "data": {
      "text/plain": [
       "array([120.])"
      ]
     },
     "execution_count": 15,
     "metadata": {},
     "output_type": "execute_result"
    }
   ],
   "source": [
    "mstats.mquantiles(dataset,prob=[0.95])"
   ]
  },
  {
   "cell_type": "code",
   "execution_count": 16,
   "metadata": {},
   "outputs": [
    {
     "name": "stdout",
     "output_type": "stream",
     "text": [
      "CumfreqResult(cumcount=array([0., 0., 0., 0.]), lowerlimit=0, binsize=2.25, extrapoints=14)\n"
     ]
    }
   ],
   "source": [
    "print(stats.cumfreq(dataset, numbins=4, defaultreallimits=(0, 9)))"
   ]
  },
  {
   "cell_type": "code",
   "execution_count": 17,
   "metadata": {},
   "outputs": [
    {
     "data": {
      "text/plain": [
       "RelfreqResult(frequency=array([0.07142857, 0.21428571, 0.57142857, 0.14285714]), lowerlimit=15.0, binsize=30.0, extrapoints=0)"
      ]
     },
     "execution_count": 17,
     "metadata": {},
     "output_type": "execute_result"
    }
   ],
   "source": [
    "stats.relfreq(dataset, numbins=4)"
   ]
  },
  {
   "cell_type": "code",
   "execution_count": 21,
   "metadata": {},
   "outputs": [
    {
     "data": {
      "text/plain": [
       "Text(0.5,0,'Гистограмма частот')"
      ]
     },
     "execution_count": 21,
     "metadata": {},
     "output_type": "execute_result"
    },
    {
     "data": {
      "image/png": "[encoded data removed]",
      "text/plain": [
       "<Figure size 432x288 with 1 Axes>"
      ]
     },
     "metadata": {},
     "output_type": "display_data"
    }
   ],
   "source": [
    "# Гистограмма частот\n",
    "plt.hist(dataset,bins=5) #ширина\n",
    "plt.xlabel(\"Гистограмма частот\")"
   ]
  },
  {
   "cell_type": "code",
   "execution_count": 23,
   "metadata": {},
   "outputs": [
    {
     "data": {
      "text/plain": [
       "(array([0.13333333, 0.04444444, 0.13333333, 0.22222222, 0.08888889]),\n",
       " array([ 30.,  48.,  66.,  84., 102., 120.]),\n",
       " <a list of 5 Patch objects>)"
      ]
     },
     "execution_count": 23,
     "metadata": {},
     "output_type": "execute_result"
    },
    {
     "data": {
      "image/png": "[encoded data removed]",
      "text/plain": [
       "<Figure size 432x288 with 1 Axes>"
      ]
     },
     "metadata": {},
     "output_type": "display_data"
    }
   ],
   "source": [
    "#Гистограмма плотности частот\n",
    "k = 1 + math.floor(math.log2(len(dataset)))\n",
    "w1 = np.ones(len(dataset))/((np.max(dataset) - np.min(dataset))/k)\n",
    "plt.hist(dataset, bins=5, weights=w1)"
   ]
  },
  {
   "cell_type": "code",
   "execution_count": 25,
   "metadata": {},
   "outputs": [
    {
     "data": {
      "text/plain": [
       "(array([0.21428571, 0.07142857, 0.21428571, 0.35714286, 0.14285714]),\n",
       " array([ 30.,  48.,  66.,  84., 102., 120.]),\n",
       " <a list of 5 Patch objects>)"
      ]
     },
     "execution_count": 25,
     "metadata": {},
     "output_type": "execute_result"
    },
    {
     "data": {
      "image/png": "[encoded data removed]",
      "text/plain": [
       "<Figure size 432x288 with 1 Axes>"
      ]
     },
     "metadata": {},
     "output_type": "display_data"
    }
   ],
   "source": [
    "#Гистограмма относительных частот\n",
    "plt.hist(dataset, bins=5, weights=np.ones(len(dataset))/len(dataset))"
   ]
  },
  {
   "cell_type": "code",
   "execution_count": 26,
   "metadata": {},
   "outputs": [
    {
     "data": {
      "text/plain": [
       "Text(0.5,0,'Гистограмма частот')"
      ]
     },
     "execution_count": 26,
     "metadata": {},
     "output_type": "execute_result"
    },
    {
     "data": {
      "image/png": "[encoded data removed]",
      "text/plain": [
       "<Figure size 432x288 with 1 Axes>"
      ]
     },
     "metadata": {},
     "output_type": "display_data"
    }
   ],
   "source": [
    "# Гистограмма плотности относительных частот\n",
    "plt.hist(dataset,bins=5, density=True)\n",
    "plt.xlabel(\"Гистограмма частот\")"
   ]
  },
  {
   "cell_type": "code",
   "execution_count": 28,
   "metadata": {},
   "outputs": [],
   "source": [
    "import statsmodels.api as sem "
   ]
  },
  {
   "cell_type": "code",
   "execution_count": 29,
   "metadata": {
    "scrolled": true
   },
   "outputs": [
    {
     "data": {
      "image/png": "[encoded data removed]",
      "text/plain": [
       "<Figure size 432x288 with 1 Axes>"
      ]
     },
     "metadata": {},
     "output_type": "display_data"
    }
   ],
   "source": [
    "sample = dataset\n",
    "ecdf = sem.distributions.ECDF(sample)\n",
    "x = np.linspace(min(sample), max(sample))\n",
    "y = ecdf(x)\n",
    "plt.step(x, y)\n",
    "plt.show()"
   ]
  },
  {
   "cell_type": "code",
   "execution_count": 42,
   "metadata": {},
   "outputs": [
    {
     "data": {
      "image/png": "[encoded data removed]",
      "text/plain": [
       "<Figure size 1080x648 with 1 Axes>"
      ]
     },
     "metadata": {},
     "output_type": "display_data"
    }
   ],
   "source": [
    "ecdf_plot(dataset,col='blue',col2='orange',size=7,dash=True)"
   ]
  },
  {
   "cell_type": "markdown",
   "metadata": {},
   "source": [
    "### 2.2. Игральную кость бросили 8 раз. При этом 1 раз выпало 1 очко, 1 раз выпало 2 очка, 2 раза — 3 очка, 1 раз — 4 очка, 2 раза — 5 очков, 1 раз выпало 6 очков. \n",
    "\n",
    "### Найдите и постройте эмпирическую функцию распределения $Fˆ_(x)$. Вычислите эмпирическую медиану, первую квартиль $Q_1$, третью квартиль $Q_3$ и межквартильный размах $IQR$."
   ]
  },
  {
   "cell_type": "markdown",
   "metadata": {},
   "source": [
    "Из условия получаем отсортированную в порядке возрастания выборку объема 8 значений:\n",
    "1, 2, 3, 3, 4, 5, 5, 6.\n",
    "\n",
    "ПРИМЕЧАНИЕ\n",
    "\\begin{equation}\n",
    "IQR = Q_3 - Q_1\n",
    "\\end{equation}\n",
    "\n",
    "Эмпирическую функцию распределения изобразим графически, необходимые эмпирические характеристики вычислим с помощью встроенных функций:"
   ]
  },
  {
   "cell_type": "code",
   "execution_count": 56,
   "metadata": {},
   "outputs": [
    {
     "name": "stdout",
     "output_type": "stream",
     "text": [
      "Эмпирическая медиана: 3.5\n",
      "Первый квартиль Q1: 2.75\n",
      "Третий квартиль Q3: 5.0\n",
      "Межквартильный размах IQR: 2.25\n"
     ]
    },
    {
     "data": {
      "image/png": "[encoded data removed]",
      "text/plain": [
       "<Figure size 1080x648 with 1 Axes>"
      ]
     },
     "metadata": {},
     "output_type": "display_data"
    }
   ],
   "source": [
    "example = array([1,2,3,3,4,5,5,6])\n",
    "ecdf_plot(example,col='blue',col2='orange',size=7,dash=True)\n",
    "print('Эмпирическая медиана:', np.median(example))\n",
    "a = np.percentile(example, [25,75])\n",
    "print('Первый квартиль Q1:', float(a[0]))\n",
    "print('Третий квартиль Q3:', float(a[1]))\n",
    "print('Межквартильный размах IQR:', float(a[1])-float(a[0]))"
   ]
  },
  {
   "cell_type": "markdown",
   "metadata": {},
   "source": [
    "### 2.3. Пусть $(3; 0; 4; 3; 6; 0; 3; 1)$ - наблюдавшиеся значения выборки. Построить эмпирическую функцию распределения $Fˆ_8(x)$ и найти $F_ˆ8(1)$; $Fˆ_8(3)$ и $Fˆ_8(5)$."
   ]
  },
  {
   "cell_type": "code",
   "execution_count": 57,
   "metadata": {},
   "outputs": [
    {
     "data": {
      "image/png": "[encoded data removed]",
      "text/plain": [
       "<Figure size 1080x648 with 1 Axes>"
      ]
     },
     "metadata": {},
     "output_type": "display_data"
    }
   ],
   "source": [
    "ex = array([3,0,4,3,6,0,3,1])\n",
    "ecdf_plot(ex,col='blue',col2='orange',size=7,dash=True)"
   ]
  },
  {
   "cell_type": "markdown",
   "metadata": {},
   "source": [
    "### 2.4. Найти по крайней мере 2 выборки различных объемов, которым соответствует следующая эмпирическая функция распределения (см. рисунок)"
   ]
  },
  {
   "cell_type": "markdown",
   "metadata": {},
   "source": [
    "### 2.5. В совокупности 16 студентов определены два признака: $X$ – оценка по математике и $Y$ – оценка по иностранному языку. Совместное частотное распределение оценок задано таблицей. Требуется найти эмпирический коэффициент корреляции $ρ(X, Y)$."
   ]
  },
  {
   "cell_type": "markdown",
   "metadata": {},
   "source": [
    "### 2.6. Пусть Ω – совокупность студентов из предыдущей задачи. Рассмотрим разбиение Ω = Ω 3 ∪ Ω 4 ∪ Ω 5, где Ω k – множество студентов, получивших по ин. языку оценку Y = k. Требуется найти среднюю групповую и межгрупповую дисперсии признака X (оценки по математике)."
   ]
  },
  {
   "cell_type": "markdown",
   "metadata": {},
   "source": [
    "### 2.7. Определим медиану абсолютных отклонений (the median of absolute deviations)\n",
    "### $MAD(x_1, x_2, . . . , x_n)$ = $Med${$|x_1 − Med_n|,..., |x_n − Med_n|$}.\n",
    "### Найти MAD(−1; 0, 6; −0, 8; 0, 2; 1)."
   ]
  },
  {
   "cell_type": "markdown",
   "metadata": {},
   "source": [
    "### 2.8. Рассмотрим две выборки $1, 5, 9$ и $2, 4, 6, 8$ со средними $x¯$ и $y¯$. Верно ли, что $\\frac{x¯+¯y}{2}$ равно среднему комбинированной выборки из 7 элементов? Аналогично, верно ли, что $\\frac{1}{2}(Med_x + Med_y)$ равна медиане комбинированной выборки?"
   ]
  },
  {
   "cell_type": "markdown",
   "metadata": {},
   "source": [
    "### 2.9. По выборке $X_1, . . . , X_n$ из генеральной совокупности $X$ вычисляется выборочное среднее $X$.\n",
    "#### a) Случайная величина X распределена по закону Пуассона $Π(λ)$. Найдите $E(X)$ и $Var(X)$. Имеет ли статистика $X$ распределение Пуассона?\n",
    "#### б) Случайная величина X распределена по равномерному закону $U(a; b)$. Найдите $E(X)$ и $Var(X)$. Имеет ли статистика $X$ равномерное распределение?"
   ]
  },
  {
   "cell_type": "markdown",
   "metadata": {},
   "source": [
    "### 2.10. Пусть $X_1, . . . , X_{100}$ — выборка из нормального распределения с параметрами $m = 50$, $σ^2 = 25$. Вычисляется выборочное среднее $X$. Найдите:\n",
    "#### а) закон распределения случайной величины $X$;\n",
    "#### б) математическое ожидание $E(X)$ и дисперсию $Var(X)$;\n",
    "#### в) вероятность $P(X < 49)$"
   ]
  },
  {
   "cell_type": "markdown",
   "metadata": {},
   "source": [
    "### 2.11. Пусть $X_1, X_2, . . . , X_6$ — выборка из равномерного распределения на отрезке $[5; 8]$, $Fˆ(x)$ — соответствующая эмпирическая функция распределения. Найдите:\n",
    "#### а) вероятность $P(Fˆ(6) = Fˆ(8))$\n",
    "#### б) вероятность$ P(Fˆ(7) = \\frac{1}{2})$"
   ]
  },
  {
   "cell_type": "markdown",
   "metadata": {},
   "source": [
    "### 2.12. Имеется выборка $X_1, X_2, . . . , X_n$ объема $n$ из генеральной совокупности $F(x)$. Найдите распределения экстремальных статистик $X(1)$ и $X(n)$, т. е. найдите выражения для функций распределения $F_1(x) = P(X_{(1)} < x)$ и $F_n(x) = P(X_{(n)} < x)$ через функцию распределения $F(x)$."
   ]
  },
  {
   "cell_type": "markdown",
   "metadata": {},
   "source": [
    "### 2.13. Последовательность значений $(X_k, Y_k)$ случайного вектора $(X, Y)$ представляет собой цифры, стоящие на k-м месте после запятой соответственно чисел $π$ и $e$, $k = 1, 2,...$ . Первые 30 значений представлены в таблице. Найдите эмпирический коэффициент корреляции $\\rho_{xy}$."
   ]
  },
  {
   "cell_type": "code",
   "execution_count": 58,
   "metadata": {},
   "outputs": [],
   "source": [
    "from sympy import *\n",
    "from mpmath import *\n",
    "from mpmath import mp\n",
    "from pydoc import help\n",
    "from scipy.stats.stats import pearsonr"
   ]
  },
  {
   "cell_type": "code",
   "execution_count": 59,
   "metadata": {},
   "outputs": [
    {
     "name": "stdout",
     "output_type": "stream",
     "text": [
      "Число π: 3.141592653589793238462643383279\n",
      "Число е: 2.718281828459045235360287471353\n"
     ]
    }
   ],
   "source": [
    "mp.dps = 31 # устанавливаем количество цифр в числах после запятой\n",
    "print('Число π:',mp.pi)\n",
    "print('Число е:',mp.e) "
   ]
  },
  {
   "cell_type": "code",
   "execution_count": 61,
   "metadata": {},
   "outputs": [
    {
     "name": "stdout",
     "output_type": "stream",
     "text": [
      "Ковариация: 1.2000000000000002\n",
      "[[6.55666667 1.2       ]\n",
      " [1.2        7.28888889]]\n",
      "[[1.         0.17358373]\n",
      " [0.17358373 1.        ]]\n",
      "Эмпирический коэффициент корреляции: 0.1735837348545752\n"
     ]
    }
   ],
   "source": [
    "pi = np.array([1,4,1,5,9,2,6,5,3,5,8,9,7,9,3,2,3,8,4,6,2,6,4,3,3,8,3,2,7,9])\n",
    "e = np.array([7,1,8,2,8,1,8,2,8,4,5,9,0,4,5,2,3,5,3,6,0,2,8,7,4,7,1,3,5,2])\n",
    "Covariance = np.cov(pi, e, bias=True)[0][1]\n",
    "print('Ковариация:',Covariance)\n",
    "print(np.cov(pi, e, bias=True))\n",
    "print(np.corrcoef(pi,e))\n",
    "CoefCorr = np.corrcoef(pi,e)[0,1]\n",
    "print('Эмпирический коэффициент корреляции:',CoefCorr)"
   ]
  },
  {
   "cell_type": "code",
   "execution_count": null,
   "metadata": {},
   "outputs": [],
   "source": []
  }
 ],
 "metadata": {
  "kernelspec": {
   "display_name": "Python 3",
   "language": "python",
   "name": "python3"
  },
  "language_info": {
   "codemirror_mode": {
    "name": "ipython",
    "version": 3
   },
   "file_extension": ".py",
   "mimetype": "text/x-python",
   "name": "python",
   "nbconvert_exporter": "python",
   "pygments_lexer": "ipython3",
   "version": "3.6.5"
  }
 },
 "nbformat": 4,
 "nbformat_minor": 2
}
